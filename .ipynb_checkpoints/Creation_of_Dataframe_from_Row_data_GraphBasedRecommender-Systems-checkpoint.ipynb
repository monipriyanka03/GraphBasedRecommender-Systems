{
 "cells": [
  {
   "cell_type": "markdown",
   "metadata": {},
   "source": [
    "### Creation of Dataframe from Row data"
   ]
  },
  {
   "cell_type": "code",
   "execution_count": 1,
   "metadata": {},
   "outputs": [],
   "source": [
    "import pandas as pd\n",
    "import numpy as np\n",
    "import matplotlib.pyplot as plt"
   ]
  },
  {
   "cell_type": "markdown",
   "metadata": {},
   "source": [
    "#### Loading the row datafile and converting into parsed Dataframes"
   ]
  },
  {
   "cell_type": "code",
   "execution_count": 2,
   "metadata": {},
   "outputs": [],
   "source": [
    "data_file = open('anonymous-msweb.data')\n",
    "lines = data_file.readlines()\n",
    "data_file.close() \n",
    "\n",
    "\n",
    "def attribute_table(lines):\n",
    "    \"\"\"\n",
    "    This function is to convert row data into Attribute dataframe.\n",
    "    \"\"\"\n",
    "    import re\n",
    "    attribute_1 = []\n",
    "    for i in lines:\n",
    "        attribute_1.append(i.split(','))\n",
    "        \n",
    "    attribute_2 = []\n",
    "    for i in attribute_1:\n",
    "        temp = []\n",
    "        if i[0] == 'A':\n",
    "            temp.append(int(i[1]))\n",
    "            temp.append(i[3].strip('\"\"'))\n",
    "            temp.append(re.findall(r'[A-Za-z]+', i[4])[0])\n",
    "        attribute_2.append(temp)\n",
    "    attribute = []\n",
    "    for i in attribute_2:\n",
    "        if not bool(i):\n",
    "            pass\n",
    "        else:\n",
    "            attribute.append(i)\n",
    "\n",
    "    df_attribute = pd.DataFrame(attribute,columns=['attribute_id','vroot_title','vroot_title_url'])    \n",
    "    return df_attribute\n",
    "\n",
    "df_train_attribute = attribute_table(lines = lines)\n",
    "df_train_attribute.to_csv('train_attribute_df.csv')"
   ]
  },
  {
   "cell_type": "markdown",
   "metadata": {},
   "source": [
    "#### To check if any Nan value present in any cell of Train Attribute dataframe"
   ]
  },
  {
   "cell_type": "code",
   "execution_count": 3,
   "metadata": {},
   "outputs": [
    {
     "name": "stdout",
     "output_type": "stream",
     "text": [
      "False\n",
      "False\n",
      "False\n"
     ]
    }
   ],
   "source": [
    "print(df_train_attribute['attribute_id'].isnull().values.any())\n",
    "print(df_train_attribute['vroot_title'].isnull().values.any())\n",
    "print(df_train_attribute['vroot_title_url'].isnull().values.any())"
   ]
  },
  {
   "cell_type": "code",
   "execution_count": 4,
   "metadata": {},
   "outputs": [
    {
     "data": {
      "text/html": [
       "<div>\n",
       "<style scoped>\n",
       "    .dataframe tbody tr th:only-of-type {\n",
       "        vertical-align: middle;\n",
       "    }\n",
       "\n",
       "    .dataframe tbody tr th {\n",
       "        vertical-align: top;\n",
       "    }\n",
       "\n",
       "    .dataframe thead th {\n",
       "        text-align: right;\n",
       "    }\n",
       "</style>\n",
       "<table border=\"1\" class=\"dataframe\">\n",
       "  <thead>\n",
       "    <tr style=\"text-align: right;\">\n",
       "      <th></th>\n",
       "      <th>user_id</th>\n",
       "      <th>vroot_id</th>\n",
       "    </tr>\n",
       "  </thead>\n",
       "  <tbody>\n",
       "    <tr>\n",
       "      <th>0</th>\n",
       "      <td>10001</td>\n",
       "      <td>1000</td>\n",
       "    </tr>\n",
       "    <tr>\n",
       "      <th>1</th>\n",
       "      <td>10001</td>\n",
       "      <td>1001</td>\n",
       "    </tr>\n",
       "    <tr>\n",
       "      <th>2</th>\n",
       "      <td>10001</td>\n",
       "      <td>1002</td>\n",
       "    </tr>\n",
       "    <tr>\n",
       "      <th>3</th>\n",
       "      <td>10002</td>\n",
       "      <td>1001</td>\n",
       "    </tr>\n",
       "    <tr>\n",
       "      <th>4</th>\n",
       "      <td>10002</td>\n",
       "      <td>1003</td>\n",
       "    </tr>\n",
       "    <tr>\n",
       "      <th>...</th>\n",
       "      <td>...</td>\n",
       "      <td>...</td>\n",
       "    </tr>\n",
       "    <tr>\n",
       "      <th>98649</th>\n",
       "      <td>42709</td>\n",
       "      <td>1003</td>\n",
       "    </tr>\n",
       "    <tr>\n",
       "      <th>98650</th>\n",
       "      <td>42710</td>\n",
       "      <td>1035</td>\n",
       "    </tr>\n",
       "    <tr>\n",
       "      <th>98651</th>\n",
       "      <td>42710</td>\n",
       "      <td>1001</td>\n",
       "    </tr>\n",
       "    <tr>\n",
       "      <th>98652</th>\n",
       "      <td>42710</td>\n",
       "      <td>1018</td>\n",
       "    </tr>\n",
       "    <tr>\n",
       "      <th>98653</th>\n",
       "      <td>42711</td>\n",
       "      <td>1008</td>\n",
       "    </tr>\n",
       "  </tbody>\n",
       "</table>\n",
       "<p>98654 rows × 2 columns</p>\n",
       "</div>"
      ],
      "text/plain": [
       "      user_id  vroot_id\n",
       "0       10001      1000\n",
       "1       10001      1001\n",
       "2       10001      1002\n",
       "3       10002      1001\n",
       "4       10002      1003\n",
       "...       ...       ...\n",
       "98649   42709      1003\n",
       "98650   42710      1035\n",
       "98651   42710      1001\n",
       "98652   42710      1018\n",
       "98653   42711      1008\n",
       "\n",
       "[98654 rows x 2 columns]"
      ]
     },
     "execution_count": 4,
     "metadata": {},
     "output_type": "execute_result"
    }
   ],
   "source": [
    "def users_table(lines):\n",
    "    \"\"\"\n",
    "    This function is to convert row data into Users dataframe.\n",
    "    \"\"\"\n",
    "    attribute_1 = []\n",
    "    for i in lines:\n",
    "        attribute_1.append(i.split(','))\n",
    "    \n",
    "    attribute = []\n",
    "    for i in range(0,len(attribute_1)):\n",
    "        temp = []\n",
    "        if (attribute_1[i][0] == 'C'):\n",
    "            temp.append(attribute_1[i][1].strip('\"\"'))\n",
    "            root = []\n",
    "            try:\n",
    "                for j in range(1,50):\n",
    "                    if attribute_1[i+j][0] == 'V':\n",
    "                        root.append(int(attribute_1[i+j][1]))\n",
    "                    else:\n",
    "                        break\n",
    "            except IndexError:\n",
    "                pass\n",
    "            temp.append(root)\n",
    "        else:\n",
    "            continue\n",
    "        attribute.append(temp)\n",
    "    #print(attribute)\n",
    "    temp1 =[]\n",
    "    for i in attribute:\n",
    "        for j in i[1]:\n",
    "            temp2=[]\n",
    "            temp2.append(i[0])\n",
    "            temp2.append(j)\n",
    "            temp1.append(temp2)\n",
    "    #print(temp1)\n",
    "    df_users_for_count = pd.DataFrame(attribute,columns=['user_id','vroot_id'])  \n",
    "    df_users = pd.DataFrame(temp1,columns=['user_id','vroot_id']) \n",
    "    return df_users, df_users_for_count\n",
    "\n",
    "df_train_users, df_train_users_for_count = users_table(lines=lines)\n",
    "df_train_users_for_count.to_csv('train_df_users_for_count.csv')\n",
    "df_train_users.to_csv('train_df_users.csv')\n",
    "df_train_users"
   ]
  },
  {
   "cell_type": "markdown",
   "metadata": {},
   "source": [
    "#### To check if any Nan value present in any cell of Train Users dataframe"
   ]
  },
  {
   "cell_type": "code",
   "execution_count": 5,
   "metadata": {},
   "outputs": [
    {
     "name": "stdout",
     "output_type": "stream",
     "text": [
      "False\n",
      "False\n"
     ]
    }
   ],
   "source": [
    "print(df_train_users['user_id'].isnull().values.any())\n",
    "print(df_train_users['vroot_id'].isnull().values.any())"
   ]
  },
  {
   "cell_type": "code",
   "execution_count": 6,
   "metadata": {},
   "outputs": [],
   "source": [
    "data_file = open('anonymous-msweb.test')\n",
    "lines_test = data_file.readlines()\n",
    "data_file.close() \n",
    "#lines_test"
   ]
  },
  {
   "cell_type": "code",
   "execution_count": 7,
   "metadata": {},
   "outputs": [],
   "source": [
    "df_test_attribute = attribute_table(lines = lines_test)\n",
    "df_test_attribute.to_csv('test_attribute_df.csv')"
   ]
  },
  {
   "cell_type": "code",
   "execution_count": 8,
   "metadata": {},
   "outputs": [
    {
     "data": {
      "text/html": [
       "<div>\n",
       "<style scoped>\n",
       "    .dataframe tbody tr th:only-of-type {\n",
       "        vertical-align: middle;\n",
       "    }\n",
       "\n",
       "    .dataframe tbody tr th {\n",
       "        vertical-align: top;\n",
       "    }\n",
       "\n",
       "    .dataframe thead th {\n",
       "        text-align: right;\n",
       "    }\n",
       "</style>\n",
       "<table border=\"1\" class=\"dataframe\">\n",
       "  <thead>\n",
       "    <tr style=\"text-align: right;\">\n",
       "      <th></th>\n",
       "      <th>user_id</th>\n",
       "      <th>vroot_id</th>\n",
       "    </tr>\n",
       "  </thead>\n",
       "  <tbody>\n",
       "    <tr>\n",
       "      <th>0</th>\n",
       "      <td>10001</td>\n",
       "      <td>1038</td>\n",
       "    </tr>\n",
       "    <tr>\n",
       "      <th>1</th>\n",
       "      <td>10001</td>\n",
       "      <td>1026</td>\n",
       "    </tr>\n",
       "    <tr>\n",
       "      <th>2</th>\n",
       "      <td>10001</td>\n",
       "      <td>1034</td>\n",
       "    </tr>\n",
       "    <tr>\n",
       "      <th>3</th>\n",
       "      <td>10002</td>\n",
       "      <td>1008</td>\n",
       "    </tr>\n",
       "    <tr>\n",
       "      <th>4</th>\n",
       "      <td>10002</td>\n",
       "      <td>1056</td>\n",
       "    </tr>\n",
       "    <tr>\n",
       "      <th>...</th>\n",
       "      <td>...</td>\n",
       "      <td>...</td>\n",
       "    </tr>\n",
       "    <tr>\n",
       "      <th>15186</th>\n",
       "      <td>14999</td>\n",
       "      <td>1027</td>\n",
       "    </tr>\n",
       "    <tr>\n",
       "      <th>15187</th>\n",
       "      <td>14999</td>\n",
       "      <td>1026</td>\n",
       "    </tr>\n",
       "    <tr>\n",
       "      <th>15188</th>\n",
       "      <td>14999</td>\n",
       "      <td>1041</td>\n",
       "    </tr>\n",
       "    <tr>\n",
       "      <th>15189</th>\n",
       "      <td>15000</td>\n",
       "      <td>1000</td>\n",
       "    </tr>\n",
       "    <tr>\n",
       "      <th>15190</th>\n",
       "      <td>15000</td>\n",
       "      <td>1009</td>\n",
       "    </tr>\n",
       "  </tbody>\n",
       "</table>\n",
       "<p>15191 rows × 2 columns</p>\n",
       "</div>"
      ],
      "text/plain": [
       "      user_id  vroot_id\n",
       "0       10001      1038\n",
       "1       10001      1026\n",
       "2       10001      1034\n",
       "3       10002      1008\n",
       "4       10002      1056\n",
       "...       ...       ...\n",
       "15186   14999      1027\n",
       "15187   14999      1026\n",
       "15188   14999      1041\n",
       "15189   15000      1000\n",
       "15190   15000      1009\n",
       "\n",
       "[15191 rows x 2 columns]"
      ]
     },
     "execution_count": 8,
     "metadata": {},
     "output_type": "execute_result"
    }
   ],
   "source": [
    "df_test_users, df_test_users_for_count = users_table(lines=lines_test)\n",
    "df_test_users.to_csv('test_users_df.csv')\n",
    "df_test_users_for_count.to_csv('test_df_users_for_count.csv')\n",
    "df_test_users"
   ]
  },
  {
   "cell_type": "markdown",
   "metadata": {},
   "source": [
    "#### To check if any Nan value present in any cell of Test Users dataframe and Test Attribute datafram "
   ]
  },
  {
   "cell_type": "code",
   "execution_count": 9,
   "metadata": {},
   "outputs": [
    {
     "name": "stdout",
     "output_type": "stream",
     "text": [
      "False\n",
      "False\n",
      "False\n",
      "False\n",
      "False\n"
     ]
    }
   ],
   "source": [
    "print(df_test_attribute['attribute_id'].isnull().values.any())\n",
    "print(df_test_attribute['vroot_title'].isnull().values.any())\n",
    "print(df_test_attribute['vroot_title_url'].isnull().values.any())\n",
    "print(df_test_users['user_id'].isnull().values.any())\n",
    "print(df_test_users['vroot_id'].isnull().values.any())"
   ]
  }
 ],
 "metadata": {
  "kernelspec": {
   "display_name": "Python 3",
   "language": "python",
   "name": "python3"
  },
  "language_info": {
   "codemirror_mode": {
    "name": "ipython",
    "version": 3
   },
   "file_extension": ".py",
   "mimetype": "text/x-python",
   "name": "python",
   "nbconvert_exporter": "python",
   "pygments_lexer": "ipython3",
   "version": "3.8.5"
  }
 },
 "nbformat": 4,
 "nbformat_minor": 4
}
