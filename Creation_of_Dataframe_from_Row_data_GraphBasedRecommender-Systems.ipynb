{
 "cells": [
  {
   "cell_type": "markdown",
   "metadata": {},
   "source": [
    "### Creation of Dataframe from Row data"
   ]
  },
  {
   "cell_type": "code",
   "execution_count": 1,
   "metadata": {},
   "outputs": [],
   "source": [
    "import pandas as pd\n",
    "import numpy as np\n",
    "import matplotlib.pyplot as plt"
   ]
  },
  {
   "cell_type": "markdown",
   "metadata": {},
   "source": [
    "#### Loading the row datafile and converting into parsed Dataframes"
   ]
  },
  {
   "cell_type": "code",
   "execution_count": 2,
   "metadata": {},
   "outputs": [],
   "source": [
    "data_file = open('anonymous-msweb.data')\n",
    "lines = data_file.readlines()\n",
    "data_file.close() \n",
    "\n",
    "\n",
    "def attribute_table(lines):\n",
    "    \"\"\"\n",
    "    This function is to convert row data into Attribute dataframe.\n",
    "    \"\"\"\n",
    "    import re\n",
    "    attribute_1 = []\n",
    "    for i in lines:\n",
    "        attribute_1.append(i.split(','))\n",
    "        \n",
    "    attribute_2 = []\n",
    "    for i in attribute_1:\n",
    "        temp = []\n",
    "        if i[0] == 'A':\n",
    "            temp.append(int(i[1]))\n",
    "            temp.append(i[3].strip('\"\"'))\n",
    "            temp.append(re.findall(r'[A-Za-z]+', i[4])[0])\n",
    "        attribute_2.append(temp)\n",
    "    attribute = []\n",
    "    for i in attribute_2:\n",
    "        if not bool(i):\n",
    "            pass\n",
    "        else:\n",
    "            attribute.append(i)\n",
    "\n",
    "    df_attribute = pd.DataFrame(attribute,columns=['attribute_id','vroot_title','vroot_title_url'])    \n",
    "    return df_attribute\n",
    "\n",
    "df_train_attribute = attribute_table(lines = lines)\n",
    "df_train_attribute.to_csv('train_attribute_df.csv')"
   ]
  },
  {
   "cell_type": "markdown",
   "metadata": {},
   "source": [
    "#### To check if any Nan value present in any cell of Train Attribute dataframe"
   ]
  },
  {
   "cell_type": "code",
   "execution_count": 3,
   "metadata": {},
   "outputs": [
    {
     "name": "stdout",
     "output_type": "stream",
     "text": [
      "False\n",
      "False\n",
      "False\n"
     ]
    }
   ],
   "source": [
    "print(df_train_attribute['attribute_id'].isnull().values.any())\n",
    "print(df_train_attribute['vroot_title'].isnull().values.any())\n",
    "print(df_train_attribute['vroot_title_url'].isnull().values.any())"
   ]
  },
  {
   "cell_type": "code",
   "execution_count": 4,
   "metadata": {},
   "outputs": [],
   "source": [
    "def users_table(lines):\n",
    "    \"\"\"\n",
    "    This function is to convert row data into Users dataframe.\n",
    "    \"\"\"\n",
    "    attribute_1 = []\n",
    "    for i in lines:\n",
    "        attribute_1.append(i.split(','))\n",
    "    #print(attribute_1)    \n",
    "    attribute = []\n",
    "    for i in range(0,len(attribute_1)):\n",
    "        temp = []\n",
    "        if (attribute_1[i][0] == 'C'):\n",
    "            temp.append(int(attribute_1[i][1].strip('\"\"')))\n",
    "            root = []\n",
    "            try:\n",
    "                for j in range(1,50):\n",
    "                    if attribute_1[i+j][0] == 'V':\n",
    "                        root.append(int(attribute_1[i+j][1]))\n",
    "                    else:\n",
    "                        break\n",
    "            except IndexError:\n",
    "                pass\n",
    "            temp.append(root)\n",
    "        else:\n",
    "            continue\n",
    "        attribute.append(temp)\n",
    "    \n",
    "    df_users = pd.DataFrame(attribute,columns=['user_id','vroot_id'])    \n",
    "    return df_users\n",
    "\n",
    "\n",
    "df_train_users = users_table(lines=lines)\n",
    "df_train_users.to_csv('train_users_df.csv')"
   ]
  },
  {
   "cell_type": "markdown",
   "metadata": {},
   "source": [
    "#### To check if any Nan value present in any cell of Train Users dataframe"
   ]
  },
  {
   "cell_type": "code",
   "execution_count": 5,
   "metadata": {},
   "outputs": [
    {
     "name": "stdout",
     "output_type": "stream",
     "text": [
      "False\n",
      "False\n"
     ]
    }
   ],
   "source": [
    "print(df_train_users['user_id'].isnull().values.any())\n",
    "print(df_train_users['vroot_id'].isnull().values.any())"
   ]
  },
  {
   "cell_type": "code",
   "execution_count": 6,
   "metadata": {},
   "outputs": [],
   "source": [
    "data_file = open('anonymous-msweb.test')\n",
    "lines_test = data_file.readlines()\n",
    "data_file.close() \n",
    "#lines_test"
   ]
  },
  {
   "cell_type": "code",
   "execution_count": 7,
   "metadata": {},
   "outputs": [],
   "source": [
    "df_test_attribute = attribute_table(lines = lines_test)\n",
    "df_test_attribute.to_csv('test_attribute_df.csv')"
   ]
  },
  {
   "cell_type": "code",
   "execution_count": 8,
   "metadata": {},
   "outputs": [],
   "source": [
    "df_test_users = users_table(lines=lines_test)\n",
    "df_test_users.to_csv('test_users_df.csv')"
   ]
  },
  {
   "cell_type": "markdown",
   "metadata": {},
   "source": [
    "#### To check if any Nan value present in any cell of Test Users dataframe and Test Attribute datafram "
   ]
  },
  {
   "cell_type": "code",
   "execution_count": 9,
   "metadata": {},
   "outputs": [
    {
     "name": "stdout",
     "output_type": "stream",
     "text": [
      "False\n",
      "False\n",
      "False\n",
      "False\n",
      "False\n"
     ]
    }
   ],
   "source": [
    "print(df_test_attribute['attribute_id'].isnull().values.any())\n",
    "print(df_test_attribute['vroot_title'].isnull().values.any())\n",
    "print(df_test_attribute['vroot_title_url'].isnull().values.any())\n",
    "print(df_train_users['user_id'].isnull().values.any())\n",
    "print(df_train_users['vroot_id'].isnull().values.any())"
   ]
  }
 ],
 "metadata": {
  "kernelspec": {
   "display_name": "Python 3",
   "language": "python",
   "name": "python3"
  },
  "language_info": {
   "codemirror_mode": {
    "name": "ipython",
    "version": 3
   },
   "file_extension": ".py",
   "mimetype": "text/x-python",
   "name": "python",
   "nbconvert_exporter": "python",
   "pygments_lexer": "ipython3",
   "version": "3.8.5"
  }
 },
 "nbformat": 4,
 "nbformat_minor": 4
}
